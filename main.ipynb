{
 "cells": [
  {
   "cell_type": "code",
   "execution_count": 26,
   "metadata": {},
   "outputs": [],
   "source": [
    "# Get the length of the ects-fiches of our university site (in order to find empty or almost empty fiches and see which faculty has the longest ects-fiches)\n",
    "import requests\n",
    "import re\n",
    "\n",
    "from bs4 import BeautifulSoup\n",
    "from tqdm import tqdm\n",
    "import pickle\n",
    "\n",
    "import pandas as pd\n",
    "import matplotlib.pyplot as plt\n",
    "import openpyxl as xl\n",
    "\n",
    "from pprint import pprint\n",
    "\n",
    "\n",
    "# Get a list containing all trajectories of our university site\n",
    "def get_trajectories():\n",
    "    # Deze functie gaat naar volgende url:\n",
    "    #  https://www.uantwerpen.be/nl/studeren/aanbod/alle-opleidingen/?f=23%2C114%2C124\n",
    "    # en probeert een lijst te maken van alle opleidingen op deze pagina\n",
    "\n",
    "    #  Note: f=124 means only \"Academische opleidingen\", 114 for \"Master\" and 23 for bachelor\n",
    "    # Krijg de inhoud van de site\n",
    "    html = requests.get(\n",
    "        'https://www.uantwerpen.be/nl/studeren/aanbod/alle-opleidingen/?s=16&lang=nl&f=23%2C114%2C124').text\n",
    "\n",
    "    # Zet de inhoud om in een object waarmee ik makkelijk van het ene naar het andere element kan gaan\n",
    "    parsed_html = BeautifulSoup(html, features=\"lxml\")\n",
    "    # Krijg het html deel dat de lijst van alle vakken bevat\n",
    "    courses_list_html = parsed_html.find(class_=\"listCourses\")\n",
    "    # Iedere opleiding zit in een kaartje met klasse \"wrap\", dus zoek al deze kaartjes (en dus alle opleidingen)\n",
    "    courses_list_html_objs = courses_list_html.find_all(class_=\"wrap\")\n",
    "\n",
    "    # Maak een lijst aan waarin ik alle opleidingen zal opslaan\n",
    "    trajectories = []\n",
    "\n",
    "    # Ga door alle opleidingen heen\n",
    "    for course in courses_list_html_objs:\n",
    "        # Krijg de url van de opleiding\n",
    "        url = course[\"href\"]\n",
    "\n",
    "        # Op basis van de url kan je bepalen of het engels of nederlands is\n",
    "        language = \"nl\" if url.startswith(\"/nl/\") else \"en\"\n",
    "        # Krijg de 'slug' van de opleiding (die later gebruikt wordt om de url van de ects-fiche te maken)\n",
    "        # e.g. slug = \"research-master-philosophy\"\n",
    "        course_slug = url.split(\"/\")[-2]\n",
    "\n",
    "        # get the degrees (master and/or bachelor)\n",
    "        degrees_html = course.find_all(\"div\", class_=\"value\")[1]\n",
    "        degrees_objs = degrees_html.find_all(\"li\")\n",
    "        degrees = list([degree.text.lower() for degree in degrees_objs])\n",
    "\n",
    "        # Voeg de verzamelde informatie toe aan de lijst met alle vakken\n",
    "        trajectories.append({\"language\": language, \"slug\": course_slug, \"degrees\": degrees})\n",
    "\n",
    "    return trajectories\n",
    "\n",
    "\n",
    "def get_courses(url):\n",
    "    # Gegeven een url waarop het studieprogramma staat, krijg je een lijst met alle vakken van dit studieprogramma\n",
    "    # (en wat extra info over die vakken)\n",
    "    # url: study programme url,\n",
    "    #  e.g. https://www.uantwerpen.be/en/study/programmes/all-programmes/research-master-philosophy/study-programme/\n",
    "    try:\n",
    "\n",
    "        # Laad de pagina zelf\n",
    "        html = requests.get(url)\n",
    "\n",
    "        # Controleer of de pagina succesvol geladen is\n",
    "        if html.status_code != 200:\n",
    "            print(f\"Error getting {url}\")\n",
    "            return []\n",
    "\n",
    "        # Zet de inhoud om in een object waarmee ik makkelijk van het ene naar het andere element kan gaan\n",
    "        html = html.text\n",
    "        parsed_html = BeautifulSoup(html, features=\"lxml\")\n",
    "\n",
    "        # Krijg een html object dat enkel de vakken van het meest recente jaar bevat\n",
    "        current_year = parsed_html.find(\"section\",\n",
    "                                        class_=\"programmes\")  # first find is the newest year, use find_all and an index to go to another year\n",
    "\n",
    "        # Krijg de titels van alle vakken\n",
    "        course_title_html_obj = current_year.find_all(\"h5\")\n",
    "\n",
    "        # Geef een waarschuwing als er geen vakken gevonden zijn\n",
    "        if len(course_title_html_obj) == 0:\n",
    "            print(f\"Warning: no courses found for {url}\")\n",
    "\n",
    "        # Maak een lijst met extra info per vak\n",
    "        courses = []\n",
    "        for course in course_title_html_obj:\n",
    "            # De url waar de ects fiche gevonden kan worden\n",
    "            course_href = course.find(\"a\")[\"href\"]\n",
    "            url_ects_fiche = f\"https://www.uantwerpen.be/ajax/courseInfo{course_href}\"\n",
    "\n",
    "            # Op basis van deze url kan er extra info uitgehaald worden (bv. de faculteit kan uit de vakcode in de url\n",
    "            # gehaald worden)\n",
    "\n",
    "            course_info = {\n",
    "                \"year\": course_href[4:8],\n",
    "                \"id\": course_href[9:19],\n",
    "                \"href\": course_href,\n",
    "                \"code\": course_href[9:13],\n",
    "                \"faculty\": course_href[13:16],\n",
    "                \"course\": course_href[16:19],\n",
    "                \"name\": course.text,\n",
    "                \"page\": parsed_html.title.string,\n",
    "                \"url_study_programme\": url,\n",
    "                \"url_ects_fiche\": url_ects_fiche\n",
    "            }\n",
    "\n",
    "            courses.append(course_info)\n",
    "        return courses\n",
    "\n",
    "    except Exception as e:\n",
    "        # Print een error moest er iets mislopen\n",
    "        print(f\"Error: {e}, {url}\")\n",
    "        return []\n",
    "\n",
    "\n",
    "def is_ok(url):\n",
    "    # Kijk of een url succesvol geladen kan worden\n",
    "    return requests.get(url).status_code == 200\n",
    "\n",
    "def contains_studieprogramma(url):\n",
    "    html = requests.get(url)\n",
    "\n",
    "    if html.status_code != 200:\n",
    "        print(f\"Error getting {url}\")\n",
    "        return False\n",
    "\n",
    "    html = html.text\n",
    "    parsed_html = BeautifulSoup(html, features=\"lxml\")\n",
    "\n",
    "    try:\n",
    "        current_year = parsed_html.find(\"section\",\n",
    "                                        class_=\"programmes\")\n",
    "        return current_year is not None\n",
    "    except:\n",
    "        return False\n",
    "     \n",
    "\n",
    "def expand_urls(url):\n",
    "    try:\n",
    "        if contains_studieprogramma(url):\n",
    "            return [url]\n",
    "        \n",
    "        # Geen studieprogramma gevonden op deze pagina. Zoek naar alle subpagina's die dit wel mogelijks hebben\n",
    "        #         <li class=\"active\">\n",
    "        # \t\t\t\t<a href=\"/nl/studeren/aanbod/alle-opleidingen/rechten-studeren/master/studieprogramma/\">Studieprogramma</a>\t\t\t\t\t\t\t\t\t\t\t\t\t\t\n",
    "        # <div class=\" sub\">\n",
    "        # \t\t<ul class=\"active\">\n",
    "        # \t\t\t\t\t\t\t\t\t\t\t\t\t\t\t\t\t<li>\n",
    "        # \t\t\t\t<a href=\"/nl/studeren/aanbod/alle-opleidingen/rechten-studeren/master/studieprogramma/master-in-de-rechten/\">Master in de rechten</a>\t\t\t\t\t\t\t</li>\n",
    "        # \t\t\t\t\t\t\t\t\t\t\t\t\t\t\t\t\t<li>\n",
    "        # \t\t\t\t<a href=\"/nl/studeren/aanbod/alle-opleidingen/rechten-studeren/master/studieprogramma/master-fiscaal-recht/\">Master in de rechten: fiscaal recht</a>\t\t\t\t\t\t\t</li>\n",
    "        # \t\t\t\t\t\t\t\t\t\t\t\t\t\t\t\t\t<li>\n",
    "        # \t\t\t\t<a href=\"/nl/studeren/aanbod/alle-opleidingen/rechten-studeren/master/studieprogramma/master-of-laws/\">Master of Laws</a>\t\t\t\t\t\t\t</li>\n",
    "        # \t\t\t</ul>\n",
    "        # \t</div>\n",
    "\n",
    "        # Find all a tags with text \"Studieprogramma\"\n",
    "        studieprogramma_links = [a for a in BeautifulSoup(requests.get(url).text, features=\"lxml\").find_all(\"a\") if a.text == \"Studieprogramma\"]\n",
    "        if len(studieprogramma_links) == 0:\n",
    "            print(f\"Error: no studieprogramma links found for {url}\")\n",
    "            return []\n",
    "        \n",
    "        # Get all hrefs of the subpages\n",
    "        subpages_li = studieprogramma_links[0].parent.find(\"ul\", class_=\"active\").find_all(\"li\")\n",
    "        subpages = [li.find(\"a\")[\"href\"] for li in subpages_li]\n",
    "        return [f\"https://www.uantwerpen.be{subpage}\" if \"www.uantwerpen.be\" not in subpage else subpage for subpage in subpages]\n",
    "        \n",
    "\n",
    "            \n",
    "\n",
    "    except Exception as e:\n",
    "        print(f\"Error getting {url}: {e}\")\n",
    "        return []\n",
    "\n",
    "\n",
    "\n",
    "\n",
    "def fetch_course_info(trajectories):\n",
    "    # Gegeven een lijst met alle opleidingen (verkregen met de get_trajectories functie),\n",
    "    #  krijg je een lijst met alle vakken van alle opleidingen\n",
    "    all_courses = []\n",
    "    num_success = 0  # number of successful requests\n",
    "    num_total = 0  # totaal aantal vakken\n",
    "\n",
    "    # trajectories = trajectories[:3]  # Work with a shorter list for debugging, this line should be commented out\n",
    "\n",
    "    # Itereer over alle opleidingen\n",
    "    for trajectory in tqdm(trajectories):\n",
    "\n",
    "        degrees = trajectory[\"degrees\"]\n",
    "        slug = trajectory[\"slug\"]\n",
    "\n",
    "        # Bekijk de master en bachelor apart\n",
    "        for degree in degrees:\n",
    "\n",
    "            # Het totaal aantal opleidingen\n",
    "            num_total += 1\n",
    "\n",
    "            # Zoek de url waar het studieprogramma staat (door een paar url's te proberen)\n",
    "            if trajectory[\"language\"] == \"nl\":\n",
    "                url1 = f\"https://www.uantwerpen.be/nl/studeren/aanbod/alle-opleidingen/{slug}/{degree}/studieprogramma/\"\n",
    "                url2 = f\"https://www.uantwerpen.be/nl/studeren/aanbod/alle-opleidingen/{slug}/over-de-{degree}/studieprogramma/\"\n",
    "                url3 = f\"https://www.uantwerpen.be/nl/studeren/aanbod/alle-opleidingen/{slug}/studieprogramma/\"\n",
    "                if is_ok(url1):\n",
    "                    url = url1\n",
    "                elif is_ok(url2):\n",
    "                    url = url2\n",
    "                elif is_ok(url3):\n",
    "                    url = url3\n",
    "                else:\n",
    "                    # Indien geen url gevonden is voor dit vak, print een error en ga verder naar het volgende vak\n",
    "                    print(f\"Error: no url found for {slug} {degree}, {url1}, {trajectory['language']}\")\n",
    "                    continue\n",
    "            else:\n",
    "                # e.g.\n",
    "                # https://www.uantwerpen.be/en/study/programmes/all-programmes/epidemiology/about-the-programme/study-programme/\n",
    "                # https://www.uantwerpen.be/en/study/programmes/all-programmes/research-master-philosophy/study-programme/\n",
    "                # https://www.uantwerpen.be/en/study/programmes/all-programmes/master-biology/study-programme/\n",
    "                url1 = f\"https://www.uantwerpen.be/en/study/programmes/all-programmes/{slug}/study-programme/\"\n",
    "                url2 = f\"https://www.uantwerpen.be/en/study/programmes/all-programmes/{slug}/about-the-programme/study-programme/\"\n",
    "                url3 = f\"https://www.uantwerpen.be/en/study/programmes/all-programmes/{degree}-{slug}/study-programme/\"\n",
    "                if is_ok(url1):\n",
    "                    url = url1\n",
    "                elif is_ok(url2):\n",
    "                    url = url2\n",
    "                else:\n",
    "                    # Indien geen url gevonden is voor dit vak, print een error en ga verder naar het volgende vak\n",
    "                    print(f\"Error: no url found for {slug} {degree}, {url1}, {trajectory['language']}\")\n",
    "                    continue\n",
    "\n",
    "            for single_url in expand_urls(url):\n",
    "                try:\n",
    "                    # Verzamel een lijst met alle vakken van deze opleiding\n",
    "                    traj_courses = get_courses(single_url)\n",
    "\n",
    "                    # Als er vakken gevonden zijn, hebben we succesvol het studieprogramma (en de vakken)\n",
    "                    # van deze opleiding kunnen vinden\n",
    "                    if len(traj_courses) > 0:\n",
    "                        num_success += 1\n",
    "\n",
    "                    # Kijk of de gegeven opleiding al in onze lijst met alle opleidingen zit\n",
    "                    # indien niet, voeg hem dan toe aan de lijst met alle vakken\n",
    "                    # indien deze er wel al inzit, is dit waarschijnlijk een vak overlappend met een andere opeiding\n",
    "                    for course in traj_courses:\n",
    "                        # Kijk of hij al in de lijst met alle vakken zit\n",
    "                        if any(course[\"id\"] in c[\"id\"] for c in all_courses):\n",
    "                            # course already added (probably overlap with another trajectory)\n",
    "                            continue\n",
    "\n",
    "                        # Indien niet, voeg het vak toe aan de lijst met alle vakken\n",
    "                        all_courses.append(course)\n",
    "                except Exception as e:\n",
    "                    # Print een error moest er iets mislopen\n",
    "                    print(f\"Error: {e}, {single_url}\")\n",
    "                    continue\n",
    "\n",
    "    # Toon in de output hoeveel opleidingen succesvol gevonden zijn\n",
    "    print(f\"Success: {num_success}/{num_total}\")\n",
    "\n",
    "    return all_courses\n",
    "\n",
    "\n",
    "def load_pickle_or_get_from_function(filename, function, *args, **kwargs):\n",
    "    # Een hulp functie om te zorgen dat ik niet altijd alles opnieuw van de site moet halen\n",
    "    # Na het halen van info van de site, slaat dit de gevonden info lokaal op (in een 'pickle' bestand)\n",
    "    # Indien het pickle bestand al bestaat, wordt deze geladen in plaats van opnieuw de info van de site te halen\n",
    "    try:\n",
    "        with open(filename, 'rb') as f:\n",
    "            return pickle.load(f)\n",
    "    except FileNotFoundError:\n",
    "        result = function(*args, **kwargs)\n",
    "        # Skipping write to picle because max recursion depth error\n",
    "        # with open(filename, 'wb') as f:\n",
    "        #     pickle.dump(result, f)\n",
    "        return result\n",
    "\n",
    "\n",
    "def get_ects_section(parsed_ects_html, section_number):\n",
    "    # Gegeven een ects fiche html object\n",
    "    # Geeft dit de inhoud van een bepaalde sectie terug\n",
    "\n",
    "    # e.g. section 6 is assessment criteria\n",
    "    completed_sections = parsed_ects_html.find_all(\"div\", class_=\"main\")\n",
    "    if len(completed_sections) < section_number:\n",
    "        return \"\"\n",
    "    return completed_sections[section_number - 1].text\n",
    "\n",
    "\n",
    "def get_courses_info(courses):\n",
    "    # Gegeven een lijst met alle vakken (verkregen met de fetch_course_info functie),\n",
    "    # deze lijst bevat al oppervlakkige info, maar met deze functies wordt per vak de ects fiche geladen en\n",
    "    # wordt er extra info toegevoegd aan de vakken\n",
    "    for course in tqdm(courses):\n",
    "        try:\n",
    "            # Laad de ects fiche van dit vak\n",
    "            url = course[\"url_ects_fiche\"]\n",
    "            request = requests.get(url)\n",
    "\n",
    "            # Statuscode van de site te laden (200 betekend succesvol geladen, 404 betekent dat er geen ects fiche is)\n",
    "            status_code = request.status_code\n",
    "            # Sla deze statuscode op in het vak (aangezien het belangrijk is om te weten dat een ects fiche niet gevonden kan worden)\n",
    "            course[\"ects_status_code\"] = status_code\n",
    "\n",
    "            # Krijg de inhoud van de site zelf en zet deze om naar een html object waar we mee kunnen werken\n",
    "            html = request.text\n",
    "            parsed_html = BeautifulSoup(html, features=\"lxml\")\n",
    "\n",
    "            # Zet de html (met veel extra tags, bv. <h1>Titel</h1>) om naar een 'plain text' versie (bv. Titel)\n",
    "            beautified_course_info = parsed_html.text\n",
    "\n",
    "            # De ects fiches bevatten veel onnodige enters (newlines \\n) en tabs, verwijder deze\n",
    "            beautified_course_info = re.sub(r'\\n+', '\\n', beautified_course_info)  # remove double (or more) newlines\n",
    "            beautified_course_info = re.sub(r'\\t', '', beautified_course_info)  # remove tabs\n",
    "            beautified_course_info = beautified_course_info.replace(\"\\n \\n\",\n",
    "                                                                    \"\\n\")  # remove lines containing only a space\n",
    "\n",
    "            # Voeg de ects text en de lengte ervan toe aan de info over het vak\n",
    "            course[\"ects_length\"] = len(beautified_course_info)\n",
    "            course[\"ects_text\"] = beautified_course_info\n",
    "\n",
    "            # Voeg de info over de 'inhoud' sectie toe aan de info over het vak  (die begint met 3.Inhoud)\n",
    "            inhoud = get_ects_section(parsed_html, 3)\n",
    "            course[\"inhoud\"] = inhoud\n",
    "            course[\"inhoud_length\"] = len(inhoud)\n",
    "\n",
    "            # En info over de evaluatievormen sectie (die begint met 6.Evaluatievormen)\n",
    "            evaluatievormen = get_ects_section(parsed_html, 6)\n",
    "            course[\"evaluatievormen\"] = evaluatievormen\n",
    "            course[\"evaluatievormen_length\"] = len(evaluatievormen)\n",
    "\n",
    "\n",
    "        except Exception as e:\n",
    "            # Als er een fout optreedt, print dan een error en ga verder met het volgende vak\n",
    "            print(f\"Error: {e}, {course}\")\n",
    "            continue\n",
    "\n",
    "    return courses\n",
    "\n",
    "\n",
    "def get_empty_ects_fiches(df):\n",
    "    # Deze functie geeft een lijst terug van alle ects fiches in \"df\" die leeg zijn\n",
    "    # Een ects fiche wordt gezien als leeg, als deze minder dan 524 karakters bevat (en dus enkel de titels)\n",
    "\n",
    "    # Maak een extra kolom die aangeeft of de fiche leeg is of niet (minder dan 524 tekens bij ects_length)\n",
    "    df[\"ects_empty\"] = df[\"ects_length\"] < 524\n",
    "\n",
    "    # Krijg alle rijen met ects_length kleiner dan 524\n",
    "    empty_ects_fiches = df[df[\"ects_empty\"]]\n",
    "    # Geef enkel relevante kolommen terug\n",
    "    relevant_columns = [\"year\", \"id\", \"faculty\", \"name\", \"page\", \"url_study_programme\", \"url_ects_fiche\",\n",
    "                        \"ects_length\", \"ects_text\"]\n",
    "    return empty_ects_fiches[relevant_columns]\n",
    "\n",
    "\n",
    "def get_empty_contents_fiches(df):\n",
    "    # Deze functie geeft een lijst terug van alle ects fiches waarvan het deel \"inhoud\" leeg is\n",
    "    # De inhoud wordt gezien als leeg, als deze minder dan 14 karakters bevat\n",
    "    df[\"inhoud_empty\"] = df[\"inhoud_length\"] < 14\n",
    "\n",
    "    # Krijg alle rijen met inhoud_length kleiner dan 524\n",
    "    empty_ects_fiches = df[df[\"inhoud_empty\"]]\n",
    "    # Geef enkel relevante kolommen terug\n",
    "    relevant_columns = [\"year\", \"id\", \"faculty\", \"name\", \"page\", \"url_study_programme\", \"url_ects_fiche\",\n",
    "                        \"ects_text\", \"inhoud\", \"inhoud_length\"]\n",
    "    return empty_ects_fiches[relevant_columns]\n",
    "\n",
    "\n",
    "def get_empty_assessment_fiches(df):\n",
    "    # Deze functie geeft een lijst terug van alle ects fiches waarvan het deel \"evaluatievormen/assessment criteria\"\n",
    "    # leeg is\n",
    "    # De evaluatievormen worden gezien als leeg, als deze minder dan 56 karakters bevat\n",
    "    df[\"evaluatievormen_empty\"] = df[\"evaluatievormen_length\"] < 56\n",
    "\n",
    "    # Krijg alle rijen met evaluatievormen_length kleiner dan 56\n",
    "    empty_ects_fiches = df[df[\"evaluatievormen_empty\"]]\n",
    "    # Geef enkel relevante kolommen terug\n",
    "    relevant_columns = [\"year\", \"id\", \"faculty\", \"name\", \"page\", \"url_study_programme\", \"url_ects_fiche\",\n",
    "                        \"ects_text\", \"evaluatievormen\", \"evaluatievormen_length\"]\n",
    "    return empty_ects_fiches[relevant_columns]\n",
    "\n",
    "\n",
    "def get_problem_fiches(df):\n",
    "    # Make an extra column indicating whether one (or more) of the problems is true\n",
    "    df[\"problem\"] = df[\"ects_empty\"] | df[\"inhoud_empty\"] | df[\"evaluatievormen_empty\"] | df[\"not_found\"]\n",
    "    relevant_columns = [\"year\", \"id\", \"faculty\", \"name\", \"page\", \"url_study_programme\", \"url_ects_fiche\", \"ects_text\",\n",
    "                        \"ects_empty\", \"inhoud_empty\", \"evaluatievormen_empty\", \"not_found\"]\n",
    "    return df[df[\"problem\"]][relevant_columns]\n",
    "\n",
    "\n"
   ]
  },
  {
   "cell_type": "code",
   "execution_count": 27,
   "metadata": {},
   "outputs": [
    {
     "data": {
      "text/plain": [
       "['https://www.uantwerpen.be/nl/studeren/aanbod/alle-opleidingen/taalkunde-letterkunde-studeren/bachelor/studieprogramma/duits-spaans/',\n",
       " 'https://www.uantwerpen.be/nl/studeren/aanbod/alle-opleidingen/taalkunde-letterkunde-studeren/bachelor/studieprogramma/duits-theater-film-literatuur/',\n",
       " 'https://www.uantwerpen.be/nl/studeren/aanbod/alle-opleidingen/taalkunde-letterkunde-studeren/bachelor/studieprogramma/engels-duits/',\n",
       " 'https://www.uantwerpen.be/nl/studeren/aanbod/alle-opleidingen/taalkunde-letterkunde-studeren/bachelor/studieprogramma/engels-spaans/',\n",
       " 'https://www.uantwerpen.be/nl/studeren/aanbod/alle-opleidingen/taalkunde-letterkunde-studeren/bachelor/studieprogramma/engels-theater-film-literatuur/',\n",
       " 'https://www.uantwerpen.be/nl/studeren/aanbod/alle-opleidingen/taalkunde-letterkunde-studeren/bachelor/studieprogramma/frans-duits/',\n",
       " 'https://www.uantwerpen.be/nl/studeren/aanbod/alle-opleidingen/taalkunde-letterkunde-studeren/bachelor/studieprogramma/frans-engels/',\n",
       " 'https://www.uantwerpen.be/nl/studeren/aanbod/alle-opleidingen/taalkunde-letterkunde-studeren/bachelor/studieprogramma/frans-spaans/',\n",
       " 'https://www.uantwerpen.be/nl/studeren/aanbod/alle-opleidingen/taalkunde-letterkunde-studeren/bachelor/studieprogramma/frans-theater-film-literatuur/',\n",
       " 'https://www.uantwerpen.be/nl/studeren/aanbod/alle-opleidingen/taalkunde-letterkunde-studeren/bachelor/studieprogramma/nederlands-duits/',\n",
       " 'https://www.uantwerpen.be/nl/studeren/aanbod/alle-opleidingen/taalkunde-letterkunde-studeren/bachelor/studieprogramma/nederlands-engels/',\n",
       " 'https://www.uantwerpen.be/nl/studeren/aanbod/alle-opleidingen/taalkunde-letterkunde-studeren/bachelor/studieprogramma/nederlands-frans/',\n",
       " 'https://www.uantwerpen.be/nl/studeren/aanbod/alle-opleidingen/taalkunde-letterkunde-studeren/bachelor/studieprogramma/nederlands-spaans/',\n",
       " 'https://www.uantwerpen.be/nl/studeren/aanbod/alle-opleidingen/taalkunde-letterkunde-studeren/bachelor/studieprogramma/nederlands-theater-film-literatuur/',\n",
       " 'https://www.uantwerpen.be/nl/studeren/aanbod/alle-opleidingen/taalkunde-letterkunde-studeren/bachelor/studieprogramma/spaans-theater-film-literatuur/']"
      ]
     },
     "execution_count": 27,
     "metadata": {},
     "output_type": "execute_result"
    }
   ],
   "source": [
    "expand_urls(\"https://www.uantwerpen.be/nl/studeren/aanbod/alle-opleidingen/taalkunde-letterkunde-studeren/bachelor/studieprogramma/\")"
   ]
  },
  {
   "cell_type": "code",
   "execution_count": 28,
   "metadata": {},
   "outputs": [],
   "source": [
    "# Verzamel een lijst van alle richtingen\n",
    "trajectories = get_trajectories()"
   ]
  },
  {
   "cell_type": "code",
   "execution_count": 29,
   "metadata": {},
   "outputs": [
    {
     "data": {
      "text/plain": [
       "[{'language': 'en',\n",
       "  'slug': 'master-infectious-diseases-research',\n",
       "  'degrees': ['master']}]"
      ]
     },
     "execution_count": 29,
     "metadata": {},
     "output_type": "execute_result"
    }
   ],
   "source": [
    "# get all trajectories where slug contains 'biolog'\n",
    "trajectories_filtered = [t for t in trajectories if \"infectious-diseases-research\" in t[\"slug\"]]\n",
    "trajectories_filtered"
   ]
  },
  {
   "cell_type": "code",
   "execution_count": 30,
   "metadata": {},
   "outputs": [
    {
     "name": "stderr",
     "output_type": "stream",
     "text": [
      "  1%|          | 1/90 [00:00<00:58,  1.52it/s]"
     ]
    },
    {
     "name": "stdout",
     "output_type": "stream",
     "text": [
      "Error: no url found for applied-ecohydrology master, https://www.uantwerpen.be/en/study/programmes/all-programmes/applied-ecohydrology/study-programme/, en\n"
     ]
    },
    {
     "name": "stderr",
     "output_type": "stream",
     "text": [
      "  8%|▊         | 7/90 [00:31<07:12,  5.22s/it]"
     ]
    },
    {
     "name": "stdout",
     "output_type": "stream",
     "text": [
      "Error: no url found for biologie-studeren master, https://www.uantwerpen.be/nl/studeren/aanbod/alle-opleidingen/biologie-studeren/master/studieprogramma/, nl\n"
     ]
    },
    {
     "name": "stderr",
     "output_type": "stream",
     "text": [
      " 18%|█▊        | 16/90 [01:04<04:42,  3.82s/it]"
     ]
    },
    {
     "name": "stdout",
     "output_type": "stream",
     "text": [
      "Error: no url found for chemie-studeren master, https://www.uantwerpen.be/nl/studeren/aanbod/alle-opleidingen/chemie-studeren/master/studieprogramma/, nl\n"
     ]
    },
    {
     "name": "stderr",
     "output_type": "stream",
     "text": [
      " 27%|██▋       | 24/90 [01:32<02:50,  2.58s/it]"
     ]
    },
    {
     "name": "stdout",
     "output_type": "stream",
     "text": [
      "Error: no url found for cultuurwetenschappen master, https://www.uantwerpen.be/nl/studeren/aanbod/alle-opleidingen/cultuurwetenschappen/master/studieprogramma/, nl\n"
     ]
    },
    {
     "name": "stderr",
     "output_type": "stream",
     "text": [
      " 32%|███▏      | 29/90 [01:46<02:01,  1.98s/it]"
     ]
    },
    {
     "name": "stdout",
     "output_type": "stream",
     "text": [
      "Error: no url found for economie master, https://www.uantwerpen.be/nl/studeren/aanbod/alle-opleidingen/economie/master/studieprogramma/, nl\n"
     ]
    },
    {
     "name": "stderr",
     "output_type": "stream",
     "text": [
      " 38%|███▊      | 34/90 [02:01<02:25,  2.60s/it]"
     ]
    },
    {
     "name": "stdout",
     "output_type": "stream",
     "text": [
      "Error: no url found for farmaceutische-zorg master, https://www.uantwerpen.be/nl/studeren/aanbod/alle-opleidingen/farmaceutische-zorg/master/studieprogramma/, nl\n"
     ]
    },
    {
     "name": "stderr",
     "output_type": "stream",
     "text": [
      " 43%|████▎     | 39/90 [02:28<03:35,  4.23s/it]"
     ]
    },
    {
     "name": "stdout",
     "output_type": "stream",
     "text": [
      "Error: no url found for geneesmiddelenontwikkeling master, https://www.uantwerpen.be/nl/studeren/aanbod/alle-opleidingen/geneesmiddelenontwikkeling/master/studieprogramma/, nl\n"
     ]
    },
    {
     "name": "stderr",
     "output_type": "stream",
     "text": [
      " 46%|████▌     | 41/90 [02:41<03:54,  4.80s/it]"
     ]
    },
    {
     "name": "stdout",
     "output_type": "stream",
     "text": [
      "Error: no url found for gezondheidswetenschappen master, https://www.uantwerpen.be/nl/studeren/aanbod/alle-opleidingen/gezondheidswetenschappen/master/studieprogramma/, nl\n"
     ]
    },
    {
     "name": "stderr",
     "output_type": "stream",
     "text": [
      " 50%|█████     | 45/90 [03:43<08:47, 11.71s/it]"
     ]
    },
    {
     "name": "stdout",
     "output_type": "stream",
     "text": [
      "Error: no url found for ingenieur-chemie-biochemie master, https://www.uantwerpen.be/nl/studeren/aanbod/alle-opleidingen/ingenieur-chemie-biochemie/master/studieprogramma/, nl\n"
     ]
    },
    {
     "name": "stderr",
     "output_type": "stream",
     "text": [
      " 59%|█████▉    | 53/90 [04:33<03:00,  4.88s/it]"
     ]
    },
    {
     "name": "stdout",
     "output_type": "stream",
     "text": [
      "Error: no url found for maatschappijwetenschappen master, https://www.uantwerpen.be/nl/studeren/aanbod/alle-opleidingen/maatschappijwetenschappen/master/studieprogramma/, nl\n"
     ]
    },
    {
     "name": "stderr",
     "output_type": "stream",
     "text": [
      " 64%|██████▍   | 58/90 [04:49<01:32,  2.89s/it]"
     ]
    },
    {
     "name": "stdout",
     "output_type": "stream",
     "text": [
      "Error: no url found for master-of-molecular-biology master, https://www.uantwerpen.be/en/study/programmes/all-programmes/master-of-molecular-biology/study-programme/, en\n"
     ]
    },
    {
     "name": "stderr",
     "output_type": "stream",
     "text": [
      " 66%|██████▌   | 59/90 [04:49<01:09,  2.24s/it]"
     ]
    },
    {
     "name": "stdout",
     "output_type": "stream",
     "text": [
      "Error: no url found for ontwerpwetenschappen master, https://www.uantwerpen.be/nl/studeren/aanbod/alle-opleidingen/ontwerpwetenschappen/master/studieprogramma/, nl\n",
      "Error: no url found for bachelor-master bachelor, https://www.uantwerpen.be/nl/studeren/aanbod/alle-opleidingen/bachelor-master/bachelor/studieprogramma/, nl\n"
     ]
    },
    {
     "name": "stderr",
     "output_type": "stream",
     "text": [
      " 67%|██████▋   | 60/90 [04:51<01:03,  2.11s/it]"
     ]
    },
    {
     "name": "stdout",
     "output_type": "stream",
     "text": [
      "Error: no url found for bachelor-master master, https://www.uantwerpen.be/nl/studeren/aanbod/alle-opleidingen/bachelor-master/master/studieprogramma/, nl\n"
     ]
    },
    {
     "name": "stderr",
     "output_type": "stream",
     "text": [
      " 86%|████████▌ | 77/90 [06:29<01:28,  6.82s/it]"
     ]
    },
    {
     "name": "stdout",
     "output_type": "stream",
     "text": [
      "Error: 'NoneType' object has no attribute 'find_all', https://www.uantwerpen.be/nl/studeren/aanbod/alle-opleidingen/taalkunde-letterkunde-studeren/master/studieprogramma/twee-talen/\n",
      "Error: 'NoneType' object has no attribute 'find_all', https://www.uantwerpen.be/nl/studeren/aanbod/alle-opleidingen/taalkunde-letterkunde-studeren/master/studieprogramma/een-taal/\n",
      "Error: 'NoneType' object has no attribute 'find_all', https://www.uantwerpen.be/nl/studeren/aanbod/alle-opleidingen/taalkunde-letterkunde-studeren/master/studieprogramma/algemene-literatuurwetenschap/\n"
     ]
    },
    {
     "name": "stderr",
     "output_type": "stream",
     "text": [
      " 87%|████████▋ | 78/90 [07:09<03:21, 16.80s/it]"
     ]
    },
    {
     "name": "stdout",
     "output_type": "stream",
     "text": [
      "Error: 'NoneType' object has no attribute 'find_all', https://www.uantwerpen.be/nl/studeren/aanbod/alle-opleidingen/taalkunde-letterkunde-studeren/master/studieprogramma/algemene-taalwetenschap/\n"
     ]
    },
    {
     "name": "stderr",
     "output_type": "stream",
     "text": [
      " 88%|████████▊ | 79/90 [07:09<02:11, 11.93s/it]"
     ]
    },
    {
     "name": "stdout",
     "output_type": "stream",
     "text": [
      "Error: no url found for talen master, https://www.uantwerpen.be/nl/studeren/aanbod/alle-opleidingen/talen/master/studieprogramma/, nl\n"
     ]
    },
    {
     "name": "stderr",
     "output_type": "stream",
     "text": [
      " 90%|█████████ | 81/90 [07:14<01:04,  7.19s/it]"
     ]
    },
    {
     "name": "stdout",
     "output_type": "stream",
     "text": [
      "Error: no url found for toegepaste-economische-wetenschappen master, https://www.uantwerpen.be/nl/studeren/aanbod/alle-opleidingen/toegepaste-economische-wetenschappen/master/studieprogramma/, nl\n"
     ]
    },
    {
     "name": "stderr",
     "output_type": "stream",
     "text": [
      " 91%|█████████ | 82/90 [08:18<03:13, 24.23s/it]"
     ]
    },
    {
     "name": "stdout",
     "output_type": "stream",
     "text": [
      "Error: 'NoneType' object has no attribute 'find_all', https://www.uantwerpen.be/nl/studeren/aanbod/alle-opleidingen/toegepaste-taalkunde-studeren/bachelor/studieprogramma/keuzeopleidingsonderdelen-kiezen/\n"
     ]
    },
    {
     "name": "stderr",
     "output_type": "stream",
     "text": [
      " 92%|█████████▏| 83/90 [08:19<01:59, 17.14s/it]"
     ]
    },
    {
     "name": "stdout",
     "output_type": "stream",
     "text": [
      "Error: no url found for tolken master, https://www.uantwerpen.be/nl/studeren/aanbod/alle-opleidingen/tolken/master/studieprogramma/, nl\n"
     ]
    },
    {
     "name": "stderr",
     "output_type": "stream",
     "text": [
      " 93%|█████████▎| 84/90 [08:20<01:12, 12.15s/it]"
     ]
    },
    {
     "name": "stdout",
     "output_type": "stream",
     "text": [
      "Error: no url found for urban-sustainability-studies bachelor, https://www.uantwerpen.be/nl/studeren/aanbod/alle-opleidingen/urban-sustainability-studies/bachelor/studieprogramma/, nl\n"
     ]
    },
    {
     "name": "stderr",
     "output_type": "stream",
     "text": [
      " 96%|█████████▌| 86/90 [08:26<00:31,  7.80s/it]"
     ]
    },
    {
     "name": "stdout",
     "output_type": "stream",
     "text": [
      "Error getting https://www.uantwerpen.be/nl/studeren/aanbod/alle-opleidingen/master-verpleegkunde-vroedkunde/studieprogramma/: 'NoneType' object has no attribute 'find_all'\n"
     ]
    },
    {
     "name": "stderr",
     "output_type": "stream",
     "text": [
      " 97%|█████████▋| 87/90 [08:27<00:17,  5.74s/it]"
     ]
    },
    {
     "name": "stdout",
     "output_type": "stream",
     "text": [
      "Error: no url found for vertalen master, https://www.uantwerpen.be/nl/studeren/aanbod/alle-opleidingen/vertalen/master/studieprogramma/, nl\n"
     ]
    },
    {
     "name": "stderr",
     "output_type": "stream",
     "text": [
      " 98%|█████████▊| 88/90 [08:28<00:08,  4.17s/it]"
     ]
    },
    {
     "name": "stdout",
     "output_type": "stream",
     "text": [
      "Error: no url found for wetenschappen-en-technologie master, https://www.uantwerpen.be/nl/studeren/aanbod/alle-opleidingen/wetenschappen-en-technologie/master/studieprogramma/, nl\n"
     ]
    },
    {
     "name": "stderr",
     "output_type": "stream",
     "text": [
      "100%|██████████| 90/90 [08:52<00:00,  5.92s/it]"
     ]
    },
    {
     "name": "stdout",
     "output_type": "stream",
     "text": [
      "Success: 134/118\n"
     ]
    },
    {
     "name": "stderr",
     "output_type": "stream",
     "text": [
      "\n"
     ]
    }
   ],
   "source": [
    "\n",
    "# Voor ieder van deze richtingen, verzamel een lijst van alle vakken\n",
    "all_courses = load_pickle_or_get_from_function('all_courses.pickle', fetch_course_info, trajectories)"
   ]
  },
  {
   "cell_type": "code",
   "execution_count": 31,
   "metadata": {},
   "outputs": [
    {
     "name": "stderr",
     "output_type": "stream",
     "text": [
      "100%|██████████| 2675/2675 [14:58<00:00,  2.98it/s] \n"
     ]
    }
   ],
   "source": [
    "\n",
    "# Van al deze vakken, voeg extra info uit de ects fiche toe\n",
    "all_courses = load_pickle_or_get_from_function('all_courses_extended.pickle', get_courses_info, all_courses)"
   ]
  },
  {
   "cell_type": "code",
   "execution_count": null,
   "metadata": {},
   "outputs": [
    {
     "ename": "RecursionError",
     "evalue": "maximum recursion depth exceeded while calling a Python object",
     "output_type": "error",
     "traceback": [
      "\u001b[1;31m---------------------------------------------------------------------------\u001b[0m",
      "\u001b[1;31mRecursionError\u001b[0m                            Traceback (most recent call last)",
      "Cell \u001b[1;32mIn[38], line 3\u001b[0m\n\u001b[0;32m      1\u001b[0m \u001b[38;5;66;03m# write result to pickle\u001b[39;00m\n\u001b[0;32m      2\u001b[0m \u001b[38;5;28;01mwith\u001b[39;00m \u001b[38;5;28mopen\u001b[39m(\u001b[38;5;124m'\u001b[39m\u001b[38;5;124mall_courses_extended.pickle\u001b[39m\u001b[38;5;124m'\u001b[39m, \u001b[38;5;124m'\u001b[39m\u001b[38;5;124mwb\u001b[39m\u001b[38;5;124m'\u001b[39m) \u001b[38;5;28;01mas\u001b[39;00m f:\n\u001b[1;32m----> 3\u001b[0m     \u001b[43mpickle\u001b[49m\u001b[38;5;241;43m.\u001b[39;49m\u001b[43mdump\u001b[49m\u001b[43m(\u001b[49m\u001b[43mall_courses\u001b[49m\u001b[43m,\u001b[49m\u001b[43m \u001b[49m\u001b[43mf\u001b[49m\u001b[43m)\u001b[49m\n",
      "File \u001b[1;32m~\\AppData\\Local\\Packages\\PythonSoftwareFoundation.Python.3.11_qbz5n2kfra8p0\\LocalCache\\local-packages\\Python311\\site-packages\\bs4\\element.py:974\u001b[0m, in \u001b[0;36mNavigableString.__getnewargs__\u001b[1;34m(self)\u001b[0m\n\u001b[0;32m    969\u001b[0m \u001b[38;5;250m    \u001b[39m\u001b[38;5;124;03m\"\"\"A copy of a NavigableString can only be a deep copy, because\u001b[39;00m\n\u001b[0;32m    970\u001b[0m \u001b[38;5;124;03m    only one PageElement can occupy a given place in a parse tree.\u001b[39;00m\n\u001b[0;32m    971\u001b[0m \u001b[38;5;124;03m    \"\"\"\u001b[39;00m\n\u001b[0;32m    972\u001b[0m     \u001b[38;5;28;01mreturn\u001b[39;00m \u001b[38;5;28mself\u001b[39m\u001b[38;5;241m.\u001b[39m__deepcopy__({})\n\u001b[1;32m--> 974\u001b[0m \u001b[38;5;28;01mdef\u001b[39;00m \u001b[38;5;21m__getnewargs__\u001b[39m(\u001b[38;5;28mself\u001b[39m):\n\u001b[0;32m    975\u001b[0m     \u001b[38;5;28;01mreturn\u001b[39;00m (\u001b[38;5;28mstr\u001b[39m(\u001b[38;5;28mself\u001b[39m),)\n\u001b[0;32m    977\u001b[0m \u001b[38;5;28;01mdef\u001b[39;00m \u001b[38;5;21m__getattr__\u001b[39m(\u001b[38;5;28mself\u001b[39m, attr):\n",
      "File \u001b[1;32m~\\AppData\\Local\\Packages\\PythonSoftwareFoundation.Python.3.11_qbz5n2kfra8p0\\LocalCache\\local-packages\\Python311\\site-packages\\bs4\\element.py:974\u001b[0m, in \u001b[0;36mNavigableString.__getnewargs__\u001b[1;34m(self)\u001b[0m\n\u001b[0;32m    969\u001b[0m \u001b[38;5;250m    \u001b[39m\u001b[38;5;124;03m\"\"\"A copy of a NavigableString can only be a deep copy, because\u001b[39;00m\n\u001b[0;32m    970\u001b[0m \u001b[38;5;124;03m    only one PageElement can occupy a given place in a parse tree.\u001b[39;00m\n\u001b[0;32m    971\u001b[0m \u001b[38;5;124;03m    \"\"\"\u001b[39;00m\n\u001b[0;32m    972\u001b[0m     \u001b[38;5;28;01mreturn\u001b[39;00m \u001b[38;5;28mself\u001b[39m\u001b[38;5;241m.\u001b[39m__deepcopy__({})\n\u001b[1;32m--> 974\u001b[0m \u001b[38;5;28;01mdef\u001b[39;00m \u001b[38;5;21m__getnewargs__\u001b[39m(\u001b[38;5;28mself\u001b[39m):\n\u001b[0;32m    975\u001b[0m     \u001b[38;5;28;01mreturn\u001b[39;00m (\u001b[38;5;28mstr\u001b[39m(\u001b[38;5;28mself\u001b[39m),)\n\u001b[0;32m    977\u001b[0m \u001b[38;5;28;01mdef\u001b[39;00m \u001b[38;5;21m__getattr__\u001b[39m(\u001b[38;5;28mself\u001b[39m, attr):\n",
      "File \u001b[1;32m_pydevd_bundle\\\\pydevd_cython.pyx:1697\u001b[0m, in \u001b[0;36m_pydevd_bundle.pydevd_cython.SafeCallWrapper.__call__\u001b[1;34m()\u001b[0m\n",
      "\u001b[1;31mRecursionError\u001b[0m: maximum recursion depth exceeded while calling a Python object"
     ]
    }
   ],
   "source": [
    "# write result to pickle\n",
    "# with open('all_courses_extended.pickle', 'wb') as f:\n",
    "#     pickle.dump(all_courses, f)"
   ]
  },
  {
   "cell_type": "code",
   "execution_count": 32,
   "metadata": {},
   "outputs": [],
   "source": [
    "\n",
    "# Zet de lijst van alle vakken om naar een soort 'tabel/excel' achtig object, waarmee we makkelijk verdere verwerking\n",
    "# kunnen doen\n",
    "df = pd.DataFrame(all_courses)"
   ]
  },
  {
   "cell_type": "code",
   "execution_count": 33,
   "metadata": {},
   "outputs": [],
   "source": [
    "\n",
    "# Maak een excel bestand aan om de verdere analyse in te zetten\n",
    "options = {'strings_to_formulas': False,\n",
    "           'strings_to_urls': False,\n",
    "           'if_sheet_exists': 'replace',\n",
    "           'index': False}\n"
   ]
  },
  {
   "cell_type": "code",
   "execution_count": 34,
   "metadata": {},
   "outputs": [],
   "source": [
    "\n",
    "excel_writer = pd.ExcelWriter('ECTS Analyzer.xlsx', engine='openpyxl')\n"
   ]
  },
  {
   "cell_type": "code",
   "execution_count": 35,
   "metadata": {},
   "outputs": [],
   "source": [
    "\n",
    "# Voeg een sheet toe van alle vakken waarvan de ects fiches niet bestaat\n",
    "# Zoek alle rijen met status_code 404 in df\n",
    "df[\"not_found\"] = df[\"ects_status_code\"] == 404\n",
    "df_404 = df[df[\"not_found\"]][[\"year\", \"id\", \"faculty\", \"name\", \"page\", \"url_study_programme\", \"url_ects_fiche\"]]\n",
    "df_404.to_excel(excel_writer, sheet_name=\"Not found\", index=False)\n"
   ]
  },
  {
   "cell_type": "code",
   "execution_count": 36,
   "metadata": {},
   "outputs": [],
   "source": [
    "\n",
    "# Gebruik voor de verdere verwerking alleen de vakken waarvan de ects fiche wel bestaat\n",
    "df = df[df[\"ects_status_code\"] == 200]\n",
    "\n",
    "# Voeg een sheet toe aan de excel met alle lege fiches\n",
    "empty_fiches = get_empty_ects_fiches(df)\n",
    "empty_fiches.to_excel(excel_writer, sheet_name='Empty', index=False)\n",
    "\n",
    "# Voeg een sheet toe met alle fiches waarvan de inhoud leeg is\n",
    "empty_fiches = get_empty_contents_fiches(df)\n",
    "empty_fiches.to_excel(excel_writer, sheet_name='Contents Empty', index=False)\n",
    "\n",
    "# Voeg een sheet toe met alle fiches waarvan de evaluatievormen leeg is\n",
    "empty_fiches = get_empty_assessment_fiches(df)\n",
    "empty_fiches.to_excel(excel_writer, sheet_name='Assessment Empty', index=False)\n",
    "\n",
    "# Markeer alle fiches met een probleem en schrijf ze naar een aparte sheet\n",
    "problem_fiches = get_problem_fiches(df)\n",
    "problem_fiches.to_excel(excel_writer, sheet_name='Problems', index=False)\n",
    "\n",
    "# sort on ects_length\n",
    "df.sort_values(by=['ects_length'], inplace=True, ascending=True)\n",
    "df.to_excel(excel_writer, sheet_name='All', index=False)\n"
   ]
  },
  {
   "cell_type": "code",
   "execution_count": null,
   "metadata": {},
   "outputs": [],
   "source": [
    "\n",
    "# Save the excel file\n",
    "excel_writer.close()\n"
   ]
  },
  {
   "cell_type": "code",
   "execution_count": 40,
   "metadata": {},
   "outputs": [
    {
     "data": {
      "image/png": "[encoded data removed]",
      "text/plain": [
       "<Figure size 640x480 with 1 Axes>"
      ]
     },
     "metadata": {},
     "output_type": "display_data"
    },
    {
     "name": "stdout",
     "output_type": "stream",
     "text": [
      "          ects_length\n",
      "faculty              \n",
      "UHA        543.000000\n",
      "ULB        601.000000\n",
      "KUL        679.500000\n",
      "UGE       1017.290323\n",
      "VUB       1179.282051\n",
      "MDO       4475.095238\n",
      "FLW       4771.141732\n",
      "REC       4829.600000\n",
      "OIW       4872.500000\n",
      "FSW       5065.900000\n",
      "TEW       5277.469751\n",
      "WET       5413.098712\n",
      "UAO       5414.000000\n",
      "GEN       5505.204188\n",
      "FTI       5576.602941\n",
      "FOW       5619.924399\n",
      "PSW       5742.109091\n",
      "CPG       6547.333333\n",
      "FBD       7443.845411\n",
      "ASE       7949.500000\n",
      "IOB      11323.000000\n",
      "\n"
     ]
    },
    {
     "data": {
      "image/png": "[encoded data removed]",
      "text/plain": [
       "<Figure size 640x480 with 1 Axes>"
      ]
     },
     "metadata": {},
     "output_type": "display_data"
    },
    {
     "name": "stdout",
     "output_type": "stream",
     "text": [
      "faculty\n",
      "ASE    0.000000\n",
      "CPG    0.000000\n",
      "FBD    0.000000\n",
      "IOB    0.000000\n",
      "OIW    0.000000\n",
      "UAO    0.000000\n",
      "TEW    0.003559\n",
      "FTI    0.004902\n",
      "PSW    0.009091\n",
      "FOW    0.020619\n",
      "FSW    0.022222\n",
      "WET    0.036481\n",
      "MDO    0.047619\n",
      "FLW    0.055118\n",
      "REC    0.063158\n",
      "GEN    0.073298\n",
      "VUB    0.794872\n",
      "UGE    0.806452\n",
      "KUL    1.000000\n",
      "UHA    1.000000\n",
      "ULB    1.000000\n",
      "Name: problem, dtype: float64\n"
     ]
    }
   ],
   "source": [
    "\n",
    "# Maak een grafiekje met de gemiddelde ects fiche lengt per faculteit\n",
    "df_graph = df[[\"faculty\", \"ects_length\"]]\n",
    "df_graph = df_graph.groupby(\"faculty\").mean()\n",
    "df_graph.sort_values(by=\"ects_length\", inplace=True)\n",
    "df_graph.plot(kind=\"bar\", title=\"Average ECTS Fiche Length per Faculty\")\n",
    "plt.show()\n",
    "print(df_graph)\n",
    "print()\n",
    "\n",
    "# Make a graph with relative frequencies of problems per faculty\n",
    "relative_problems_per_faculty = df.groupby(\"faculty\")[\"problem\"].mean()\n",
    "relative_problems_per_faculty.sort_values(inplace=True)\n",
    "relative_problems_per_faculty.plot(kind=\"bar\", title=\"Relative Problems per Faculty\")\n",
    "plt.show()\n",
    "print(relative_problems_per_faculty)\n",
    "\n",
    "#### example get course info ####\n",
    "# get_courses_info([{\"href\": \"?id=2022-1071FOWARC&lang=nl\"}])\n",
    "####\n",
    "\n",
    "\n",
    "#### example get ects section ####\n",
    "# url_params = \"?id=2022-1001WETCHE\"\n",
    "# html = requests.get(f\"https://www.uantwerpen.be/ajax/courseInfo{url_params}\").text\n",
    "# parsed_html = BeautifulSoup(html, features=\"lxml\")\n",
    "# print(get_ects_section(parsed_html, 6))\n",
    "####\n",
    "\n",
    "# pprint(get_courses(\"https://www.uantwerpen.be/nl/studeren/aanbod/alle-opleidingen/rechten-studeren/master/studieprogramma/master-in-de-rechten/\"))\n"
   ]
  }
 ],
 "metadata": {
  "kernelspec": {
   "display_name": "Python 3",
   "language": "python",
   "name": "python3"
  },
  "language_info": {
   "codemirror_mode": {
    "name": "ipython",
    "version": 3
   },
   "file_extension": ".py",
   "mimetype": "text/x-python",
   "name": "python",
   "nbconvert_exporter": "python",
   "pygments_lexer": "ipython3",
   "version": "3.11.9"
  }
 },
 "nbformat": 4,
 "nbformat_minor": 2
}
